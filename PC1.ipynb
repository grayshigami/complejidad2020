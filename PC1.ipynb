{
  "nbformat": 4,
  "nbformat_minor": 0,
  "metadata": {
    "colab": {
      "name": "Untitled0.ipynb",
      "provenance": []
    },
    "kernelspec": {
      "name": "python3",
      "display_name": "Python 3"
    }
  },
  "cells": [
    {
      "cell_type": "code",
      "metadata": {
        "id": "pZwj2zGzRRv1"
      },
      "source": [
        "import math\n",
        "from queue import Queue\n",
        "\n",
        "def bfs(G, s):\n",
        "  n = len(G)\n",
        "  color = ['white']*n\n",
        "  d = [math.inf]*n\n",
        "  p = [None]*n\n",
        "  Q = Queue()\n",
        "\n",
        "  color[s] = 'gray'\n",
        "  d[s] = 0\n",
        "  Q.put((s, 1))\n",
        "  boom = [0]\n",
        "  while not Q.empty():\n",
        "    u, day = Q.get()\n",
        "    cont = 0\n",
        "    for v in G[u]:\n",
        "      if color[v] == 'white':\n",
        "        cont += 1\n",
        "        color[v] = 'gray'\n",
        "        d[v] = d[u] + 1\n",
        "        p[v] = u\n",
        "        Q.put((v, day + 1))\n",
        "    if (len(boom) <= day):\n",
        "      boom.append(0)\n",
        "    boom[day] += cont\n",
        "    color[u] = 'black'\n",
        "  \n",
        "  print(d, p)\n",
        "  return boom"
      ],
      "execution_count": null,
      "outputs": []
    },
    {
      "cell_type": "code",
      "metadata": {
        "id": "o4p_WY9ZM-_W",
        "outputId": "c77c2863-a503-4afc-e26b-08320bda010a",
        "colab": {
          "base_uri": "https://localhost:8080/"
        }
      },
      "source": [
        "%%writefile 1.al1\n",
        "1 2\n",
        "3 4\n",
        "0 4 5\n",
        "4\n",
        "\n",
        "0 2"
      ],
      "execution_count": null,
      "outputs": [
        {
          "output_type": "stream",
          "text": [
            "Writing 1.al1\n"
          ],
          "name": "stdout"
        }
      ]
    },
    {
      "cell_type": "code",
      "metadata": {
        "id": "DaridN2-NGVC"
      },
      "source": [
        "def readAL1(filename):\n",
        "  G = []\n",
        "  with open(filename) as f:\n",
        "    for line in f:\n",
        "      G.append([int(u) for u in line.strip().split()])\n",
        "  return G"
      ],
      "execution_count": null,
      "outputs": []
    },
    {
      "cell_type": "code",
      "metadata": {
        "id": "dHQ8pH4zOWYD",
        "outputId": "e6e8a15d-b97e-4194-99d3-9a3e68ddb7c2",
        "colab": {
          "base_uri": "https://localhost:8080/"
        }
      },
      "source": [
        "G = readAL1('1.al1')\n",
        "tests = [0, 4, 5]\n",
        "for s in tests:\n",
        "  boom = bfs(G, s)\n",
        "  day = 0\n",
        "  maxi = -1\n",
        "  for i in range(len(boom)):\n",
        "    if boom[i] > maxi:\n",
        "      day = i\n",
        "      maxi = boom[i]\n",
        "  if maxi == 0:\n",
        "    print(0)\n",
        "  else:\n",
        "    print(maxi, day)"
      ],
      "execution_count": null,
      "outputs": [
        {
          "output_type": "stream",
          "text": [
            "[0, 1, 1, 2, 2, 2] [None, 0, 0, 1, 1, 2]\n",
            "3 2\n",
            "[inf, inf, inf, inf, 0, inf] [None, None, None, None, None, None]\n",
            "0\n",
            "[1, 2, 1, 3, 2, 0] [5, 0, 5, 1, 2, None]\n",
            "2 1\n"
          ],
          "name": "stdout"
        }
      ]
    },
    {
      "cell_type": "code",
      "metadata": {
        "id": "FZHYv1uFMFue",
        "outputId": "dda92bd5-411c-44fd-caf0-1c185bb29b32",
        "colab": {
          "base_uri": "https://localhost:8080/",
          "height": 34
        }
      },
      "source": [
        "%%writefile 1.in\n",
        "1 1\n",
        "*\n",
        "3 5\n",
        "*@*@*\n",
        "**@**\n",
        "*@*@*\n",
        "1 8\n",
        "@@****@*\n",
        "5 5\n",
        "****@\n",
        "*@@*@\n",
        "*@**@\n",
        "@@@*@\n",
        "@@**@\n",
        "0 0"
      ],
      "execution_count": null,
      "outputs": [
        {
          "output_type": "stream",
          "text": [
            "Writing 1.in\n"
          ],
          "name": "stdout"
        }
      ]
    },
    {
      "cell_type": "code",
      "metadata": {
        "id": "ssfGf4IIP1I9"
      },
      "source": [
        "def dfs(G):\n",
        "  M, N = len(G), len(G[0])\n",
        "  visited = [[False]*N for _ in range(M)]\n",
        "\n",
        "  def valid(i, j):\n",
        "    if i < 0 or i >= M or j < 0 or j >= N:\n",
        "      return False\n",
        "    return G[i][j] == '@'\n",
        "  \n",
        "  def getAdjacents(i, j):\n",
        "    return [(i - 1, j - 1), (i - 1, j), (i - 1, j + 1),\n",
        "            (i, j - 1), (i, j + 1),\n",
        "            (i + 1, j - 1), (i + 1, j), (i + 1, j + 1)]\n",
        "  \n",
        "  def dfsVisit(G, i, j):\n",
        "    if visited[i][j]: return\n",
        "    visited[i][j] = True\n",
        "    for ai, aj in getAdjacents(i, j):\n",
        "      if valid(ai, aj):\n",
        "        dfsVisit(G, ai, aj)\n",
        "  \n",
        "  groups = 0\n",
        "  for i in range(M):\n",
        "    for j in range(N):\n",
        "      if G[i][j] == '@' and not visited[i][j]:\n",
        "        groups += 1\n",
        "        dfsVisit(G, i, j)\n",
        "  \n",
        "  return groups"
      ],
      "execution_count": null,
      "outputs": []
    },
    {
      "cell_type": "code",
      "metadata": {
        "id": "atqxlHSgRU48"
      },
      "source": [
        "with open('1.in') as f:\n",
        "  while True:\n",
        "    M, N = [int(a) for a in f.readline().strip().split()]\n",
        "    if M == 0:\n",
        "      break\n",
        "    m = [None for _ in range(M)]\n",
        "    for i in range(M):\n",
        "      line = f.readline()\n",
        "      m[i] = [c for c in line.st]"
      ],
      "execution_count": null,
      "outputs": []
    }
  ]
}
